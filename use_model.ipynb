{
  "nbformat": 4,
  "nbformat_minor": 0,
  "metadata": {
    "colab": {
      "name": "use_model.ipynb",
      "provenance": [],
      "collapsed_sections": []
    },
    "kernelspec": {
      "name": "python3",
      "display_name": "Python 3"
    }
  },
  "cells": [
    {
      "cell_type": "markdown",
      "metadata": {
        "id": "KM2ROQte1gBn"
      },
      "source": [
        "# Description and Imports"
      ]
    },
    {
      "cell_type": "markdown",
      "metadata": {
        "id": "pJ_Zd_Nz1nDg"
      },
      "source": [
        "*In this notebook as show some simulations and analysis of different situations using the model implemented. For more information go to  [repository GitHub](https://github.com/dalatorrem/implementation__model_epidemics_1)*"
      ]
    },
    {
      "cell_type": "code",
      "metadata": {
        "id": "jI37CeIB3l_V"
      },
      "source": [
        "import .... my module\n"
      ],
      "execution_count": null,
      "outputs": []
    },
    {
      "cell_type": "markdown",
      "metadata": {
        "id": "S-VUbw6h3pcW"
      },
      "source": [
        "***For authorize the saving files results of simulation  in your drive run the next code***"
      ]
    },
    {
      "cell_type": "code",
      "metadata": {
        "id": "AciEsfQZ4mwL"
      },
      "source": [
        "from google.colab import drive\n",
        "drive.mount('/content/drive')"
      ],
      "execution_count": null,
      "outputs": []
    },
    {
      "cell_type": "markdown",
      "metadata": {
        "id": "x4h9g-uZ4weT"
      },
      "source": [
        "# Simulations"
      ]
    },
    {
      "cell_type": "code",
      "metadata": {
        "id": "GV2JURnU41Mw"
      },
      "source": [
        "################################ Class Data #######################################################################################\n",
        "import numpy as np\n",
        "\n",
        "\n",
        "\n",
        "class MEpidemic():  \n",
        "  def __init__(self):\n",
        "    \"\"\"\n",
        "    Create a instance of model epidemic:    \n",
        "    After of create a model epidemic  instance, it's should ould load parameters with the method load parameters.\n",
        "    \"\"\"\n",
        "    self.parameters=None\n",
        "  #### Load data from a pd.DataFrame or from cloud\n",
        "  def load_parameters(self, dic_parameters):\n",
        "    \"\"\"\n",
        "    Load the parameters need for model.\n",
        "\n",
        "    dic_parameters: A dictionary with parameters for model.\n",
        "    \"\"\"\n",
        "    self.parameters = dic_parameters\n",
        "  \n",
        "class MEpidemicPertussisNeth2001(MEpidemic):\n",
        "  \"\"\"\n",
        "  Create a instance of model epidemic based on the paper \n",
        "\n",
        "\n",
        "  \"\"\"\n",
        "  \n",
        "  def load_data_cloud(self):\n",
        "    try:\n",
        "      self.data_orders=self.__runQuery()\n",
        "      self.__df_with_col_us(self)\n",
        "    except:\n",
        "      print(\"Data could not be loaded\")\n",
        "\n",
        "  def __runQuery(self):\n",
        "    engine=create_engine(self.CONNECTION_ARGUMENTS)\n",
        "    result = engine.connect().execute((text(self.QUERY)))\n",
        "    return pd.DataFrame(result.fetchall(), columns=result.keys())\n",
        "\n",
        "\n",
        "  def __df_with_col_us(self):\n",
        "    try:\n",
        "      df_col_us=self.data_orders[self.COLUMNS_US].copy()\n",
        "      array_periodos=pd.to_datetime(df_col_us.fecha_pedido).dt.to_period('M').values\n",
        "      df_col_us=df_col_us.assign(periodo=array_periodos)\n",
        "      df_col_us.rename(columns={'periodo':'M'},inplace=True)\n",
        "      self.data_orders=df_col_us\n",
        "    except:\n",
        "      print('Its must load the data with the methods: load_data or load_data_cloud')\n"
      ],
      "execution_count": null,
      "outputs": []
    }
  ]
}